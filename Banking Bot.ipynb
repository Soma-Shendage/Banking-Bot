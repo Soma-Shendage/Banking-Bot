{
 "cells": [
  {
   "cell_type": "code",
   "execution_count": null,
   "id": "df98d90d",
   "metadata": {},
   "outputs": [],
   "source": [
    "import pandas as pd\n",
    "import nltk\n",
    "from nltk.corpus import stopwords\n",
    "from nltk.tokenize import word_tokenize\n",
    "from nltk.stem import WordNetLemmatizer\n",
    "import string\n",
    "import spacy\n",
    "\n"
   ]
  },
  {
   "cell_type": "code",
   "execution_count": null,
   "id": "c043a7cf",
   "metadata": {},
   "outputs": [],
   "source": [
    "nltk.download('punkt')\n",
    "nltk.download('stopwords')\n",
    "nltk.download('wordnet')"
   ]
  },
  {
   "cell_type": "code",
   "execution_count": null,
   "id": "e7c5779a",
   "metadata": {},
   "outputs": [],
   "source": [
    "# Load English language model for spaCy\n",
    "nlp = spacy.load(\"en_core_web_sm\")\n",
    "\n",
    "def preprocess_text(text):\n",
    "    # Convert to lowercase\n",
    "    text = text.lower()\n",
    "\n",
    "    # Remove punctuation\n",
    "    text = text.translate(str.maketrans(\"\", \"\", string.punctuation))\n",
    "\n",
    "    # Tokenize the text using NLTK\n",
    "    tokens = word_tokenize(text)\n",
    "\n",
    "    # Remove stopwords using NLTK\n",
    "    stop_words = set(stopwords.words('english'))\n",
    "    tokens = [word for word in tokens if word not in stop_words]\n",
    "\n",
    "    # Lemmatization using NLTK\n",
    "    lemmatizer = WordNetLemmatizer()\n",
    "    tokens = [lemmatizer.lemmatize(word) for word in tokens]\n",
    "\n",
    "    # Lemmatization using spaCy\n",
    "    doc = nlp(\" \".join(tokens))\n",
    "    lemmatized_tokens = [token.lemma_ for token in doc]\n",
    "\n",
    "    # Join the lemmatized tokens back into a single string\n",
    "    processed_text = ' '.join(lemmatized_tokens)\n",
    "\n",
    "    return processed_text\n",
    "\n"
   ]
  },
  {
   "cell_type": "code",
   "execution_count": null,
   "id": "7ff1b135",
   "metadata": {},
   "outputs": [],
   "source": [
    "def load_data(csv_file):\n",
    "    # Load data from CSV file\n",
    "    data = pd.read_csv(csv_file)\n",
    "    return data"
   ]
  },
  {
   "cell_type": "code",
   "execution_count": null,
   "id": "ef6fe25e",
   "metadata": {},
   "outputs": [],
   "source": [
    "def banking_chatbot(csv_file, user_input):\n",
    "    # Load banking data from CSV\n",
    "    banking_data = load_data(csv_file)\n",
    "\n",
    "    # Preprocess user input\n",
    "    processed_input = preprocess_text(user_input)\n",
    "\n",
    "    # Example: Check if processed_input matches any row in the 'intent' column\n",
    "    matched_row = banking_data[banking_data['intent'].apply(lambda x: preprocess_text(x) == processed_input)]\n",
    "\n",
    "    if not matched_row.empty:\n",
    "        # Retrieve the corresponding response\n",
    "        bot_response = matched_row['response'].values[0]\n",
    "    else:\n",
    "        # Provide a default response for unmatched intents\n",
    "        bot_response = \"I'm sorry, I couldn't understand your request. Please try again.\"\n",
    "\n",
    "    return bot_response\n",
    "\n"
   ]
  },
  {
   "cell_type": "code",
   "execution_count": null,
   "id": "f1487041",
   "metadata": {},
   "outputs": [],
   "source": [
    "File_b = \"Banking_data.csv\"  \n",
    "user_input = \"Check my account balance\"\n",
    "response = banking_chatbot(File_b, user_input)\n",
    "print(\"User Input:\", user_input)\n",
    "print(\"Bot Response:\", response)\n"
   ]
  }
 ],
 "metadata": {
  "kernelspec": {
   "display_name": "Python 3 (ipykernel)",
   "language": "python",
   "name": "python3"
  },
  "language_info": {
   "codemirror_mode": {
    "name": "ipython",
    "version": 3
   },
   "file_extension": ".py",
   "mimetype": "text/x-python",
   "name": "python",
   "nbconvert_exporter": "python",
   "pygments_lexer": "ipython3",
   "version": "3.9.13"
  }
 },
 "nbformat": 4,
 "nbformat_minor": 5
}
